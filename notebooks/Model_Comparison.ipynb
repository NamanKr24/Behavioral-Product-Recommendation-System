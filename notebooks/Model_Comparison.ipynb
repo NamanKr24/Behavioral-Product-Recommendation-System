{
 "cells": [
  {
   "cell_type": "code",
   "execution_count": 1,
   "id": "27b8c76b-a6b4-435e-bbc5-bbd7b224032e",
   "metadata": {
    "execution": {
     "iopub.execute_input": "2025-09-14T08:39:39.382108Z",
     "iopub.status.busy": "2025-09-14T08:39:39.381751Z",
     "iopub.status.idle": "2025-09-14T08:39:39.394559Z",
     "shell.execute_reply": "2025-09-14T08:39:39.393464Z",
     "shell.execute_reply.started": "2025-09-14T08:39:39.382076Z"
    },
    "trusted": true
   },
   "outputs": [],
   "source": [
    "import sys\n",
    "sys.path.append('/kaggle/input/py-scripts/')"
   ]
  },
  {
   "cell_type": "code",
   "execution_count": 13,
   "id": "6a7dc0a6-c919-4306-b200-48097ba5a2d6",
   "metadata": {
    "execution": {
     "iopub.execute_input": "2025-09-14T10:28:40.306767Z",
     "iopub.status.busy": "2025-09-14T10:28:40.306354Z",
     "iopub.status.idle": "2025-09-14T10:28:40.313964Z",
     "shell.execute_reply": "2025-09-14T10:28:40.312848Z",
     "shell.execute_reply.started": "2025-09-14T10:28:40.306711Z"
    },
    "trusted": true
   },
   "outputs": [],
   "source": [
    "import pandas as pd\n",
    "from collections import defaultdict\n",
    "import warnings\n",
    "warnings.filterwarnings('ignore')\n",
    "from data_loader import load_kaggle_data_all_months\n",
    "from data_preprocessing import preprocess_data\n",
    "from evaluation import precision_at_k, recall_at_k\n",
    "from baseline_model import get_baseline_recommendations\n",
    "from content_model import train_content_based_model, get_content_recommendations\n",
    "from collaborative_model import train_collaborative_model, get_collaborative_recommendations\n",
    "import matplotlib.pyplot as plt\n",
    "import seaborn as sns\n",
    "from surprise import Dataset, Reader"
   ]
  },
  {
   "cell_type": "code",
   "execution_count": 3,
   "id": "7109a928-e4ce-4fe5-b713-525a6bfb85d5",
   "metadata": {
    "execution": {
     "iopub.execute_input": "2025-09-14T08:39:49.638039Z",
     "iopub.status.busy": "2025-09-14T08:39:49.637511Z",
     "iopub.status.idle": "2025-09-14T08:45:34.103535Z",
     "shell.execute_reply": "2025-09-14T08:45:34.102265Z",
     "shell.execute_reply.started": "2025-09-14T08:39:49.638007Z"
    },
    "trusted": true
   },
   "outputs": [
    {
     "name": "stdout",
     "output_type": "stream",
     "text": [
      "Handled missing values in 'brand' and 'category_code'.\n",
      "Created 'day_of_week' and 'hour' features.\n",
      "Preprocessing complete.\n",
      "Data ready.\n"
     ]
    }
   ],
   "source": [
    "raw_df = load_kaggle_data_all_months()\n",
    "raw_df['event_time'] = pd.to_datetime(raw_df['event_time'])\n",
    "df = preprocess_data(raw_df)\n",
    "print(\"Data ready.\")"
   ]
  },
  {
   "cell_type": "code",
   "execution_count": 4,
   "id": "19709676-c69c-4c13-908a-a63beba07ce7",
   "metadata": {
    "execution": {
     "iopub.execute_input": "2025-09-14T08:53:39.457514Z",
     "iopub.status.busy": "2025-09-14T08:53:39.456416Z",
     "iopub.status.idle": "2025-09-14T08:54:02.035143Z",
     "shell.execute_reply": "2025-09-14T08:54:02.034099Z",
     "shell.execute_reply.started": "2025-09-14T08:53:39.457470Z"
    },
    "trusted": true
   },
   "outputs": [
    {
     "name": "stdout",
     "output_type": "stream",
     "text": [
      "Split complete. Test set contains 110518 users.\n"
     ]
    }
   ],
   "source": [
    "df_sorted = df.sort_values(by=['user_id', 'event_time'])\n",
    "purchases_df = df_sorted[df_sorted['event_type'] == 'purchase']\n",
    "\n",
    "test_df = purchases_df.groupby('user_id').tail(1)\n",
    "train_df = df.drop(test_df.index)\n",
    "\n",
    "actuals = test_df.groupby('user_id')['product_id'].apply(list).to_dict()\n",
    "print(f\"Split complete. Test set contains {len(actuals)} users.\")"
   ]
  },
  {
   "cell_type": "code",
   "execution_count": 5,
   "id": "501d7412-2942-4825-804e-986a91f4a2ab",
   "metadata": {
    "execution": {
     "iopub.execute_input": "2025-09-14T08:56:08.557303Z",
     "iopub.status.busy": "2025-09-14T08:56:08.555817Z",
     "iopub.status.idle": "2025-09-14T09:01:04.068323Z",
     "shell.execute_reply": "2025-09-14T09:01:04.067066Z",
     "shell.execute_reply.started": "2025-09-14T08:56:08.557256Z"
    },
    "trusted": true
   },
   "outputs": [
    {
     "name": "stdout",
     "output_type": "stream",
     "text": [
      "Processing epoch 0\n",
      "Processing epoch 1\n",
      "Processing epoch 2\n",
      "Processing epoch 3\n",
      "Processing epoch 4\n",
      "Processing epoch 5\n",
      "Processing epoch 6\n",
      "Processing epoch 7\n",
      "Processing epoch 8\n",
      "Processing epoch 9\n",
      "All models trained.\n"
     ]
    }
   ],
   "source": [
    "baseline_recs = get_baseline_recommendations(train_df, n=10)\n",
    "cb_nn_model, cb_tfidf_matrix, cb_product_metadata, cb_indices = train_content_based_model(train_df)\n",
    "\n",
    "cf_algo = train_collaborative_model(train_df)\n",
    "print(\"All models trained.\")"
   ]
  },
  {
   "cell_type": "code",
   "execution_count": 6,
   "id": "fc0fea18-b48a-4290-8be0-e9ad3647a03f",
   "metadata": {
    "execution": {
     "iopub.execute_input": "2025-09-14T09:02:40.671580Z",
     "iopub.status.busy": "2025-09-14T09:02:40.671183Z",
     "iopub.status.idle": "2025-09-14T09:02:41.771575Z",
     "shell.execute_reply": "2025-09-14T09:02:41.769585Z",
     "shell.execute_reply.started": "2025-09-14T09:02:40.671553Z"
    },
    "trusted": true
   },
   "outputs": [
    {
     "name": "stdout",
     "output_type": "stream",
     "text": [
      "Generating predictions for the test set\n",
      "Predictions generated.\n"
     ]
    }
   ],
   "source": [
    "event_weights = {'view': 1.0, 'cart': 2.0, 'purchase': 4.0}\n",
    "test_df['rating'] = test_df['event_type'].map(event_weights).fillna(0)\n",
    "reader = Reader(rating_scale=(0, 4))\n",
    "testset = list(test_df[['user_id', 'product_id', 'rating']].itertuples(index=False, name=None))\n",
    "\n",
    "print(\"Generating predictions for the test set\")\n",
    "all_predictions = cf_algo.test(testset)\n",
    "print(\"Predictions generated.\")"
   ]
  },
  {
   "cell_type": "code",
   "execution_count": 7,
   "id": "6f3d6378-3f42-4978-bdce-d003efa3ca0f",
   "metadata": {
    "execution": {
     "iopub.execute_input": "2025-09-14T09:06:14.391694Z",
     "iopub.status.busy": "2025-09-14T09:06:14.390438Z",
     "iopub.status.idle": "2025-09-14T09:06:19.668430Z",
     "shell.execute_reply": "2025-09-14T09:06:19.667281Z",
     "shell.execute_reply.started": "2025-09-14T09:06:14.391658Z"
    },
    "trusted": true
   },
   "outputs": [],
   "source": [
    "K = 10\n",
    "top_n_recs = defaultdict(list)\n",
    "for pred in all_predictions:\n",
    "    top_n_recs[pred.uid].append((pred.iid, pred.est))\n",
    "\n",
    "for uid, user_ratings in top_n_recs.items():\n",
    "    user_ratings.sort(key=lambda x: x[1], reverse=True)\n",
    "    top_n_recs[uid] = [iid for iid, est in user_ratings[:K]]\n",
    "\n",
    "results_list = []"
   ]
  },
  {
   "cell_type": "code",
   "execution_count": 8,
   "id": "ff7ff7a0-93e4-47fa-8282-a9545d125cef",
   "metadata": {
    "execution": {
     "iopub.execute_input": "2025-09-14T09:18:03.173621Z",
     "iopub.status.busy": "2025-09-14T09:18:03.172455Z",
     "iopub.status.idle": "2025-09-14T09:18:03.420489Z",
     "shell.execute_reply": "2025-09-14T09:18:03.419315Z",
     "shell.execute_reply.started": "2025-09-14T09:18:03.173567Z"
    },
    "trusted": true
   },
   "outputs": [],
   "source": [
    "precisions_base = []\n",
    "recalls_base = []\n",
    "for user_id, actual_items in actuals.items():\n",
    "    precisions_base.append(precision_at_k(K, baseline_recs, actual_items))\n",
    "    recalls_base.append(recall_at_k(K, baseline_recs, actual_items))\n",
    "results_list.append({'Model': 'Baseline', \n",
    "                     'Avg_Precision@10': sum(precisions_base)/len(precisions_base) if precisions_base else 0, \n",
    "                     'Avg_Recall@10': sum(recalls_base)/len(recalls_base) if recalls_base else 0})"
   ]
  },
  {
   "cell_type": "code",
   "execution_count": 9,
   "id": "24a92783-278d-4c87-94cd-7703623c07d2",
   "metadata": {
    "execution": {
     "iopub.execute_input": "2025-09-14T09:18:09.197863Z",
     "iopub.status.busy": "2025-09-14T09:18:09.197512Z",
     "iopub.status.idle": "2025-09-14T10:08:34.971457Z",
     "shell.execute_reply": "2025-09-14T10:08:34.969901Z",
     "shell.execute_reply.started": "2025-09-14T09:18:09.197832Z"
    },
    "trusted": true
   },
   "outputs": [],
   "source": [
    "precisions_cb = []\n",
    "recalls_cb = []\n",
    "for user_id, actual_items in actuals.items():\n",
    "    user_train_history = train_df[train_df['user_id'] == user_id]\n",
    "    if user_train_history.empty:\n",
    "        continue\n",
    "    last_interacted_product = user_train_history['product_id'].iloc[-1]\n",
    "    recommendations = get_content_recommendations(last_interacted_product, cb_nn_model, cb_tfidf_matrix, cb_product_metadata, cb_indices, n=K)\n",
    "    precisions_cb.append(precision_at_k(K, recommendations, actual_items))\n",
    "    recalls_cb.append(recall_at_k(K, recommendations, actual_items))\n",
    "results_list.append({'Model': 'Content-Based', \n",
    "                     'Avg_Precision@10': sum(precisions_cb)/len(precisions_cb) if precisions_cb else 0, \n",
    "                     'Avg_Recall@10': sum(recalls_cb)/len(recalls_cb) if recalls_cb else 0})"
   ]
  },
  {
   "cell_type": "code",
   "execution_count": 10,
   "id": "63d62828-dbed-47d5-a6ba-5a0cd8125883",
   "metadata": {
    "execution": {
     "iopub.execute_input": "2025-09-14T10:09:53.575069Z",
     "iopub.status.busy": "2025-09-14T10:09:53.574407Z",
     "iopub.status.idle": "2025-09-14T10:09:53.941385Z",
     "shell.execute_reply": "2025-09-14T10:09:53.940067Z",
     "shell.execute_reply.started": "2025-09-14T10:09:53.575005Z"
    },
    "trusted": true
   },
   "outputs": [],
   "source": [
    "precisions_cf = []\n",
    "recalls_cf = []\n",
    "for user_id, actual_items in actuals.items():\n",
    "    recommendations = top_n_recs.get(user_id, []) # Fast dictionary lookup\n",
    "    precisions_cf.append(precision_at_k(K, recommendations, actual_items))\n",
    "    recalls_cf.append(recall_at_k(K, recommendations, actual_items))\n",
    "results_list.append({'Model': 'Collaborative', \n",
    "                     'Avg_Precision@10': sum(precisions_cf)/len(precisions_cf) if precisions_cf else 0, \n",
    "                     'Avg_Recall@10': sum(recalls_cf)/len(recalls_cf) if recalls_cf else 0})"
   ]
  },
  {
   "cell_type": "code",
   "execution_count": 11,
   "id": "23224b1b-d52b-4873-a5c9-6210e9a81249",
   "metadata": {
    "execution": {
     "iopub.execute_input": "2025-09-14T10:09:58.918116Z",
     "iopub.status.busy": "2025-09-14T10:09:58.917678Z",
     "iopub.status.idle": "2025-09-14T10:09:58.956886Z",
     "shell.execute_reply": "2025-09-14T10:09:58.955690Z",
     "shell.execute_reply.started": "2025-09-14T10:09:58.918091Z"
    },
    "trusted": true
   },
   "outputs": [
    {
     "name": "stdout",
     "output_type": "stream",
     "text": [
      "\n",
      "--- MODEL PERFORMANCE COMPARISON ---\n",
      "        Model  Avg_Precision@10  Avg_Recall@10\n",
      "     Baseline          0.002052       0.020522\n",
      "Content-Based          0.002069       0.020689\n",
      "Collaborative          0.100000       1.000000\n"
     ]
    }
   ],
   "source": [
    "summary_df = pd.DataFrame(results_list)\n",
    "print(\"\\n--- MODEL PERFORMANCE COMPARISON ---\")\n",
    "print(summary_df.to_string(index=False))"
   ]
  },
  {
   "cell_type": "code",
   "execution_count": 15,
   "id": "2a53ab18-b341-4986-a212-a20c094a1410",
   "metadata": {
    "execution": {
     "iopub.execute_input": "2025-09-14T10:30:36.216200Z",
     "iopub.status.busy": "2025-09-14T10:30:36.215816Z",
     "iopub.status.idle": "2025-09-14T10:30:36.692398Z",
     "shell.execute_reply": "2025-09-14T10:30:36.691506Z",
     "shell.execute_reply.started": "2025-09-14T10:30:36.216174Z"
    },
    "trusted": true
   },
   "outputs": [
    {
     "data": {
      "image/png": "[encoded data removed]",
      "text/plain": [
       "<Figure size 1800x700 with 2 Axes>"
      ]
     },
     "metadata": {},
     "output_type": "display_data"
    }
   ],
   "source": [
    "fig, axes = plt.subplots(1, 2, figsize=(18, 7))\n",
    "\n",
    "sns.barplot(x='Model', y='Avg_Precision@10', data=summary_df, ax=axes[0], palette='plasma')\n",
    "axes[0].set_title('Average Precision @ 10', fontsize=14)\n",
    "axes[0].set_xlabel('Model', fontsize=12)\n",
    "axes[0].set_ylabel('Score', fontsize=12)\n",
    "for p in axes[0].patches:\n",
    "    axes[0].annotate(format(p.get_height(), '.4f'), \n",
    "                       (p.get_x() + p.get_width() / 2., p.get_height()), \n",
    "                       ha = 'center', va = 'center', \n",
    "                       xytext = (0, 9), \n",
    "                       textcoords = 'offset points')\n",
    "\n",
    "sns.barplot(x='Model', y='Avg_Recall@10', data=summary_df, ax=axes[1], palette='magma')\n",
    "axes[1].set_title('Average Recall @ 10', fontsize=14)\n",
    "axes[1].set_xlabel('Model', fontsize=12)\n",
    "axes[1].set_ylabel('Score', fontsize=12)\n",
    "for p in axes[1].patches:\n",
    "    axes[1].annotate(format(p.get_height(), '.4f'), \n",
    "                       (p.get_x() + p.get_width() / 2., p.get_height()), \n",
    "                       ha = 'center', va = 'center', \n",
    "                       xytext = (0, 9), \n",
    "                       textcoords = 'offset points')\n",
    "\n",
    "plt.suptitle('Model Performance Comparison', fontsize=18)\n",
    "plt.tight_layout(rect=[0, 0.03, 1, 0.95])\n",
    "plt.show()"
   ]
  }
 ],
 "metadata": {
  "kaggle": {
   "accelerator": "none",
   "dataSources": [
    {
     "datasetId": 426888,
     "sourceId": 1015349,
     "sourceType": "datasetVersion"
    },
    {
     "datasetId": 8247460,
     "sourceId": 13025826,
     "sourceType": "datasetVersion"
    }
   ],
   "dockerImageVersionId": 31089,
   "isGpuEnabled": false,
   "isInternetEnabled": true,
   "language": "python",
   "sourceType": "notebook"
  },
  "kernelspec": {
   "display_name": "Python 3",
   "language": "python",
   "name": "python3"
  },
  "language_info": {
   "codemirror_mode": {
    "name": "ipython",
    "version": 3
   },
   "file_extension": ".py",
   "mimetype": "text/x-python",
   "name": "python",
   "nbconvert_exporter": "python",
   "pygments_lexer": "ipython3",
   "version": "3.11.13"
  }
 },
 "nbformat": 4,
 "nbformat_minor": 5
}
